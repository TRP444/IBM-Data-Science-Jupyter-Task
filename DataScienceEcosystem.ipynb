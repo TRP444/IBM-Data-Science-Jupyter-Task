{
 "cells": [
  {
   "cell_type": "markdown",
   "id": "191ee6ef",
   "metadata": {},
   "source": [
    "# Data Science Ecosystem"
   ]
  },
  {
   "cell_type": "markdown",
   "id": "daa9e5ea",
   "metadata": {},
   "source": [
    "In this notebook, Data Science Tools and Ecosystem are summarized."
   ]
  },
  {
   "cell_type": "markdown",
   "id": "7925ad80",
   "metadata": {},
   "source": [
    "## Author\n",
    "Tom Pennell"
   ]
  },
  {
   "cell_type": "markdown",
   "id": "8bac839d",
   "metadata": {},
   "source": [
    "**Objectives:**\n",
    "- List popular data science languages\n",
    "- Show an example of arithmetic\n",
    "- List libraries used in data science"
   ]
  },
  {
   "cell_type": "markdown",
   "id": "6912c58a",
   "metadata": {},
   "source": [
    "Some of the popular languages that Data Scientists use are:\n",
    "1. JavaScrpit\n",
    "2. Python\n",
    "3. R"
   ]
  },
  {
   "cell_type": "markdown",
   "id": "79584ab1",
   "metadata": {},
   "source": [
    "Some of the commonly used libraries used by Data Scientists include:\n",
    "1. Matplotlib\n",
    "2. Numpy\n",
    "3. Pandas"
   ]
  },
  {
   "cell_type": "markdown",
   "id": "411bc7b3",
   "metadata": {},
   "source": [
    "|Data Science Tools|\n",
    "|---|\n",
    "|Hadoop|\n",
    "|GitHub|\n",
    "|Tableau|"
   ]
  },
  {
   "cell_type": "markdown",
   "id": "40542839",
   "metadata": {},
   "source": [
    "### Below are a few examples of evaluating arithmetic expressions in Python"
   ]
  },
  {
   "cell_type": "code",
   "execution_count": 4,
   "id": "81d24f5d",
   "metadata": {},
   "outputs": [
    {
     "data": {
      "text/plain": [
       "35"
      ]
     },
     "execution_count": 4,
     "metadata": {},
     "output_type": "execute_result"
    }
   ],
   "source": [
    "#This a simple arithmetic expression to mutiply then add integers\n",
    "(3+4)*5"
   ]
  },
  {
   "cell_type": "code",
   "execution_count": 5,
   "id": "bbbdcfa0",
   "metadata": {},
   "outputs": [
    {
     "name": "stdout",
     "output_type": "stream",
     "text": [
      "3.3333333333333335\n"
     ]
    }
   ],
   "source": [
    "#This will convert 200 minutes to hours by diving by 60\n",
    "minutes = 200\n",
    "hours = minutes / 60\n",
    "print(hours)"
   ]
  }
 ],
 "metadata": {
  "kernelspec": {
   "display_name": "Python 3 (ipykernel)",
   "language": "python",
   "name": "python3"
  },
  "language_info": {
   "codemirror_mode": {
    "name": "ipython",
    "version": 3
   },
   "file_extension": ".py",
   "mimetype": "text/x-python",
   "name": "python",
   "nbconvert_exporter": "python",
   "pygments_lexer": "ipython3",
   "version": "3.10.11"
  }
 },
 "nbformat": 4,
 "nbformat_minor": 5
}
